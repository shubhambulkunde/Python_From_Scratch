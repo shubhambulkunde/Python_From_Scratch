{
 "cells": [
  {
   "cell_type": "markdown",
   "metadata": {},
   "source": [
    "<center>\n",
    "    <img src=\"https://cf-courses-data.s3.us.cloud-object-storage.appdomain.cloud/assets/logos/SN_web_lightmode.png\" width=\"300\" alt=\"cognitiveclass.ai logo\">\n",
    "</center>\n",
    "\n",
    "# Hands-on Lab: API Examples\n",
    "## Random User and Fruityvice API Examples\n",
    "\n",
    "\n",
    "Estimated time needed: **30** minutes\n",
    "\n",
    "## Objectives\n",
    "\n",
    "After completing this lab you will be able to:\n",
    "\n",
    "*   Load and use RandomUser API, using `RandomUser()` Python library\n",
    "*   Load and use Fruityvice API, using `requests` Python library\n",
    "*   Load and use Open-Joke-API, using `requests` Python library\n",
    "\n"
   ]
  },
  {
   "cell_type": "markdown",
   "metadata": {},
   "source": [
    "The purpose of this notebook is to provide more examples on how to use simple APIs. As you have already learned from previous videos and notebooks, API stands for Application Programming Interface and is a software intermediary that allows two applications to talk to each other. \n",
    "\n",
    "The advantages of using APIs:\n",
    " *   **Automation**. Less human effort is required and workflows can be easily updated to become faster and more      \n",
    "     productive.\n",
    " *   **Efficiency**. It allows to use the capabilities of one of the already developed APIs than to try to \n",
    "     independently implement some functionality from scratch.\n",
    " \n",
    "The disadvantage of using APIs:\n",
    " *   **Security**. If the API is poorly integrated, it means it will be vulnerable to attacks, resulting in data breeches or losses having financial or reputation implications.\n",
    "\n",
    "One of the applications we will use in this notebook is Random User Generator. RandomUser is an open-source, free API providing developers with randomly generated users to be used as placeholders for testing purposes. This makes the tool similar to Lorem Ipsum, but is a placeholder for people instead of text. The API can return multiple results, as well as specify generated user details such as gender, email, image, username, address, title, first and last name, and more. More information on [RandomUser](https://randomuser.me/documentation#intro) can be found here.\n",
    "\n",
    "Another example of simple API we will use in this notebook is Fruityvice application. The Fruityvice API web service which provides data for all kinds of fruit! You can use Fruityvice to find out interesting information about fruit and educate yourself. The web service is completely free to use and contribute to.\n"
   ]
  },
  {
   "cell_type": "markdown",
   "metadata": {},
   "source": [
    "## Example 1: RandomUser API\n",
    "Bellow are Get Methods parameters that we can generate. For more information on the parameters, please visit this [documentation](https://randomuser.me/documentation) page.\n"
   ]
  },
  {
   "cell_type": "markdown",
   "metadata": {},
   "source": [
    "## **Get Methods**\n",
    "\n",
    "- get_cell()\n",
    "- get_city()\n",
    "- get_dob()\n",
    "- get_email()\n",
    "- get_first_name()\n",
    "- get_full_name()\n",
    "- get_gender()\n",
    "- get_id()\n",
    "- get_id_number()\n",
    "- get_id_type()\n",
    "- get_info()\n",
    "- get_last_name()\n",
    "- get_login_md5()\n",
    "- get_login_salt()\n",
    "- get_login_sha1()\n",
    "- get_login_sha256()\n",
    "- get_nat()\n",
    "- get_password()\n",
    "- get_phone()\n",
    "- get_picture()\n",
    "- get_postcode()\n",
    "- get_registered()\n",
    "- get_state()\n",
    "- get_street()\n",
    "- get_username()\n",
    "- get_zipcode()\n"
   ]
  },
  {
   "cell_type": "markdown",
   "metadata": {},
   "source": [
    "To start using the API you can install the `randomuser` library running the `pip install` command.\n"
   ]
  },
  {
   "cell_type": "code",
   "execution_count": 1,
   "metadata": {},
   "outputs": [
    {
     "name": "stdout",
     "output_type": "stream",
     "text": [
      "Collecting randomuser\n",
      "  Downloading randomuser-1.6.tar.gz (5.0 kB)\n",
      "Building wheels for collected packages: randomuser\n",
      "  Building wheel for randomuser (setup.py): started\n",
      "  Building wheel for randomuser (setup.py): finished with status 'done'\n",
      "  Created wheel for randomuser: filename=randomuser-1.6-py3-none-any.whl size=5082 sha256=3922fdd259e7fa2b461b07049d39a02db8b890839610026ef8ec4fa6713c8a2e\n",
      "  Stored in directory: c:\\users\\bulku\\appdata\\local\\pip\\cache\\wheels\\41\\6f\\23\\878c103a235dc2d4e85a3965c124aae8a28470c541b81aa2ba\n",
      "Successfully built randomuser\n",
      "Installing collected packages: randomuser\n",
      "Successfully installed randomuser-1.6\n"
     ]
    }
   ],
   "source": [
    "!pip install randomuser"
   ]
  },
  {
   "cell_type": "markdown",
   "metadata": {},
   "source": [
    "Then, we will load the necessary libraries.\n"
   ]
  },
  {
   "cell_type": "code",
   "execution_count": 5,
   "metadata": {},
   "outputs": [],
   "source": [
    "from randomuser import RandomUser as RU\n",
    "import pandas as pd"
   ]
  },
  {
   "cell_type": "markdown",
   "metadata": {},
   "source": [
    "First, we will create a random user object, r.\n"
   ]
  },
  {
   "cell_type": "code",
   "execution_count": 6,
   "metadata": {},
   "outputs": [],
   "source": [
    "r = RU()"
   ]
  },
  {
   "cell_type": "markdown",
   "metadata": {},
   "source": [
    "Then, using `generate_users()` function, we get a list of random 10 users.\n"
   ]
  },
  {
   "cell_type": "code",
   "execution_count": 7,
   "metadata": {},
   "outputs": [],
   "source": [
    "some_list = r.generate_users(10)"
   ]
  },
  {
   "cell_type": "code",
   "execution_count": 8,
   "metadata": {},
   "outputs": [
    {
     "data": {
      "text/plain": [
       "[<randomuser.RandomUser at 0x226406f4c10>,\n",
       " <randomuser.RandomUser at 0x226406f4d60>,\n",
       " <randomuser.RandomUser at 0x226406efcd0>,\n",
       " <randomuser.RandomUser at 0x226406ef6a0>,\n",
       " <randomuser.RandomUser at 0x226406efd00>,\n",
       " <randomuser.RandomUser at 0x226406efe50>,\n",
       " <randomuser.RandomUser at 0x22643516e80>,\n",
       " <randomuser.RandomUser at 0x22643516e50>,\n",
       " <randomuser.RandomUser at 0x22643516d00>,\n",
       " <randomuser.RandomUser at 0x22643516ee0>]"
      ]
     },
     "execution_count": 8,
     "metadata": {},
     "output_type": "execute_result"
    }
   ],
   "source": [
    "some_list"
   ]
  },
  {
   "cell_type": "markdown",
   "metadata": {},
   "source": [
    "The **\"Get Methods\"** functions mentioned at the beginning of this notebook, can generate the required parameters to construct a dataset. For example, to get full name, we call `get_full_name()` function.\n"
   ]
  },
  {
   "cell_type": "code",
   "execution_count": 10,
   "metadata": {},
   "outputs": [
    {
     "data": {
      "text/plain": [
       "'Mestan Karaduman'"
      ]
     },
     "execution_count": 10,
     "metadata": {},
     "output_type": "execute_result"
    }
   ],
   "source": [
    "name = r.get_full_name()\n",
    "name"
   ]
  },
  {
   "cell_type": "markdown",
   "metadata": {},
   "source": [
    "Let's say we only need 10 users with full names and their email addresses. We can write a \"for-loop\" to print these 10 users.\n"
   ]
  },
  {
   "cell_type": "code",
   "execution_count": 11,
   "metadata": {},
   "outputs": [
    {
     "name": "stdout",
     "output_type": "stream",
     "text": [
      "Gina Henderson   gina.henderson@example.com\n",
      "محمدعلی مرادی   mhmdaaly.mrdy@example.com\n",
      "Angelika Philippe   angelika.philippe@example.com\n",
      "Bertram Thomsen   bertram.thomsen@example.com\n",
      "Edvard Westbye   edvard.westbye@example.com\n",
      "Eline Noel   eline.noel@example.com\n",
      "Savannah Snyder   savannah.snyder@example.com\n",
      "Sharron Morgan   sharron.morgan@example.com\n",
      "Eddie Harvey   eddie.harvey@example.com\n",
      "Torstein Roksvåg   torstein.roksvag@example.com\n"
     ]
    }
   ],
   "source": [
    "for user in some_list:\n",
    "    print (user.get_full_name(),\" \",user.get_email())"
   ]
  },
  {
   "cell_type": "markdown",
   "metadata": {},
   "source": [
    "## Exercise 1\n",
    "In this Exercise, generate photos of the random 10 users.\n"
   ]
  },
  {
   "cell_type": "code",
   "execution_count": 13,
   "metadata": {},
   "outputs": [
    {
     "name": "stdout",
     "output_type": "stream",
     "text": [
      "https://randomuser.me/api/portraits/women/53.jpg\n",
      "https://randomuser.me/api/portraits/men/12.jpg\n",
      "https://randomuser.me/api/portraits/women/71.jpg\n",
      "https://randomuser.me/api/portraits/men/84.jpg\n",
      "https://randomuser.me/api/portraits/men/46.jpg\n",
      "https://randomuser.me/api/portraits/women/26.jpg\n",
      "https://randomuser.me/api/portraits/women/19.jpg\n",
      "https://randomuser.me/api/portraits/women/35.jpg\n",
      "https://randomuser.me/api/portraits/men/14.jpg\n",
      "https://randomuser.me/api/portraits/men/28.jpg\n"
     ]
    }
   ],
   "source": [
    "## Write your code here\n",
    "for user in some_list:\n",
    "    print(user.get_picture())"
   ]
  },
  {
   "cell_type": "markdown",
   "metadata": {},
   "source": [
    "<details><summary>Click here for the solution</summary>\n",
    "\n",
    "```python\n",
    "for user in some_list:\n",
    "    print (user.get_picture())\n",
    "```\n",
    "\n",
    "</details>\n"
   ]
  },
  {
   "cell_type": "markdown",
   "metadata": {},
   "source": [
    "To generate a table with information about the users, we can write a function containing all desirable parameters. For example, name, gender, city, etc. The parameters will depend on the requirements of the test to be performed. We call the Get Methods, listed at the beginning of this notebook. Then, we return pandas dataframe with the users.\n"
   ]
  },
  {
   "cell_type": "code",
   "execution_count": 14,
   "metadata": {},
   "outputs": [],
   "source": [
    "def get_users():\n",
    "    users =[]\n",
    "     \n",
    "    for user in RandomUser.generate_users(10):\n",
    "        users.append({\"Name\":user.get_full_name(),\"Gender\":user.get_gender(),\"City\":user.get_city(),\"State\":user.get_state(),\"Email\":user.get_email(), \"DOB\":user.get_dob(),\"Picture\":user.get_picture()})\n",
    "      \n",
    "    return pd.DataFrame(users)     "
   ]
  },
  {
   "cell_type": "code",
   "execution_count": 15,
   "metadata": {},
   "outputs": [
    {
     "data": {
      "text/html": [
       "<div>\n",
       "<style scoped>\n",
       "    .dataframe tbody tr th:only-of-type {\n",
       "        vertical-align: middle;\n",
       "    }\n",
       "\n",
       "    .dataframe tbody tr th {\n",
       "        vertical-align: top;\n",
       "    }\n",
       "\n",
       "    .dataframe thead th {\n",
       "        text-align: right;\n",
       "    }\n",
       "</style>\n",
       "<table border=\"1\" class=\"dataframe\">\n",
       "  <thead>\n",
       "    <tr style=\"text-align: right;\">\n",
       "      <th></th>\n",
       "      <th>Name</th>\n",
       "      <th>Gender</th>\n",
       "      <th>City</th>\n",
       "      <th>State</th>\n",
       "      <th>Email</th>\n",
       "      <th>DOB</th>\n",
       "      <th>Picture</th>\n",
       "    </tr>\n",
       "  </thead>\n",
       "  <tbody>\n",
       "    <tr>\n",
       "      <th>0</th>\n",
       "      <td>مهرسا مرادی</td>\n",
       "      <td>female</td>\n",
       "      <td>همدان</td>\n",
       "      <td>گیلان</td>\n",
       "      <td>mhrs.mrdy@example.com</td>\n",
       "      <td>1981-06-20T08:41:10.698Z</td>\n",
       "      <td>https://randomuser.me/api/portraits/women/14.jpg</td>\n",
       "    </tr>\n",
       "    <tr>\n",
       "      <th>1</th>\n",
       "      <td>Anna Martin</td>\n",
       "      <td>female</td>\n",
       "      <td>Invercargill</td>\n",
       "      <td>Hawke'S Bay</td>\n",
       "      <td>anna.martin@example.com</td>\n",
       "      <td>1994-10-08T02:20:00.839Z</td>\n",
       "      <td>https://randomuser.me/api/portraits/women/46.jpg</td>\n",
       "    </tr>\n",
       "    <tr>\n",
       "      <th>2</th>\n",
       "      <td>Jacinto Freitas</td>\n",
       "      <td>male</td>\n",
       "      <td>Caraguatatuba</td>\n",
       "      <td>Rio Grande do Norte</td>\n",
       "      <td>jacinto.freitas@example.com</td>\n",
       "      <td>1969-09-01T02:12:39.529Z</td>\n",
       "      <td>https://randomuser.me/api/portraits/men/97.jpg</td>\n",
       "    </tr>\n",
       "    <tr>\n",
       "      <th>3</th>\n",
       "      <td>Arttu Tanner</td>\n",
       "      <td>male</td>\n",
       "      <td>Outokumpu</td>\n",
       "      <td>South Karelia</td>\n",
       "      <td>arttu.tanner@example.com</td>\n",
       "      <td>1986-05-10T23:18:26.362Z</td>\n",
       "      <td>https://randomuser.me/api/portraits/men/38.jpg</td>\n",
       "    </tr>\n",
       "    <tr>\n",
       "      <th>4</th>\n",
       "      <td>Albert Poulsen</td>\n",
       "      <td>male</td>\n",
       "      <td>Bælum</td>\n",
       "      <td>Midtjylland</td>\n",
       "      <td>albert.poulsen@example.com</td>\n",
       "      <td>1975-11-22T03:01:24.724Z</td>\n",
       "      <td>https://randomuser.me/api/portraits/men/64.jpg</td>\n",
       "    </tr>\n",
       "    <tr>\n",
       "      <th>5</th>\n",
       "      <td>Lydia Masson</td>\n",
       "      <td>female</td>\n",
       "      <td>Büttikon</td>\n",
       "      <td>Vaud</td>\n",
       "      <td>lydia.masson@example.com</td>\n",
       "      <td>1945-06-30T22:16:33.741Z</td>\n",
       "      <td>https://randomuser.me/api/portraits/women/35.jpg</td>\n",
       "    </tr>\n",
       "    <tr>\n",
       "      <th>6</th>\n",
       "      <td>Hanaé Gautier</td>\n",
       "      <td>female</td>\n",
       "      <td>Metz</td>\n",
       "      <td>Vienne</td>\n",
       "      <td>hanae.gautier@example.com</td>\n",
       "      <td>1967-03-04T12:46:55.592Z</td>\n",
       "      <td>https://randomuser.me/api/portraits/women/6.jpg</td>\n",
       "    </tr>\n",
       "    <tr>\n",
       "      <th>7</th>\n",
       "      <td>Kristine Hildre</td>\n",
       "      <td>female</td>\n",
       "      <td>Yli</td>\n",
       "      <td>Oslo</td>\n",
       "      <td>kristine.hildre@example.com</td>\n",
       "      <td>1945-11-22T19:04:33.023Z</td>\n",
       "      <td>https://randomuser.me/api/portraits/women/48.jpg</td>\n",
       "    </tr>\n",
       "    <tr>\n",
       "      <th>8</th>\n",
       "      <td>Julia Vargas</td>\n",
       "      <td>female</td>\n",
       "      <td>Edinburgh</td>\n",
       "      <td>Mid Glamorgan</td>\n",
       "      <td>julia.vargas@example.com</td>\n",
       "      <td>1982-12-30T10:06:35.589Z</td>\n",
       "      <td>https://randomuser.me/api/portraits/women/77.jpg</td>\n",
       "    </tr>\n",
       "    <tr>\n",
       "      <th>9</th>\n",
       "      <td>Georgios Eckart</td>\n",
       "      <td>male</td>\n",
       "      <td>Giengen an der Brenz</td>\n",
       "      <td>Sachsen-Anhalt</td>\n",
       "      <td>georgios.eckart@example.com</td>\n",
       "      <td>1992-11-19T12:33:23.463Z</td>\n",
       "      <td>https://randomuser.me/api/portraits/men/28.jpg</td>\n",
       "    </tr>\n",
       "  </tbody>\n",
       "</table>\n",
       "</div>"
      ],
      "text/plain": [
       "              Name  Gender                  City                State  \\\n",
       "0      مهرسا مرادی  female                 همدان                گیلان   \n",
       "1      Anna Martin  female          Invercargill          Hawke'S Bay   \n",
       "2  Jacinto Freitas    male         Caraguatatuba  Rio Grande do Norte   \n",
       "3     Arttu Tanner    male             Outokumpu        South Karelia   \n",
       "4   Albert Poulsen    male                 Bælum          Midtjylland   \n",
       "5     Lydia Masson  female              Büttikon                 Vaud   \n",
       "6    Hanaé Gautier  female                  Metz               Vienne   \n",
       "7  Kristine Hildre  female                   Yli                 Oslo   \n",
       "8     Julia Vargas  female             Edinburgh        Mid Glamorgan   \n",
       "9  Georgios Eckart    male  Giengen an der Brenz       Sachsen-Anhalt   \n",
       "\n",
       "                         Email                       DOB  \\\n",
       "0        mhrs.mrdy@example.com  1981-06-20T08:41:10.698Z   \n",
       "1      anna.martin@example.com  1994-10-08T02:20:00.839Z   \n",
       "2  jacinto.freitas@example.com  1969-09-01T02:12:39.529Z   \n",
       "3     arttu.tanner@example.com  1986-05-10T23:18:26.362Z   \n",
       "4   albert.poulsen@example.com  1975-11-22T03:01:24.724Z   \n",
       "5     lydia.masson@example.com  1945-06-30T22:16:33.741Z   \n",
       "6    hanae.gautier@example.com  1967-03-04T12:46:55.592Z   \n",
       "7  kristine.hildre@example.com  1945-11-22T19:04:33.023Z   \n",
       "8     julia.vargas@example.com  1982-12-30T10:06:35.589Z   \n",
       "9  georgios.eckart@example.com  1992-11-19T12:33:23.463Z   \n",
       "\n",
       "                                            Picture  \n",
       "0  https://randomuser.me/api/portraits/women/14.jpg  \n",
       "1  https://randomuser.me/api/portraits/women/46.jpg  \n",
       "2    https://randomuser.me/api/portraits/men/97.jpg  \n",
       "3    https://randomuser.me/api/portraits/men/38.jpg  \n",
       "4    https://randomuser.me/api/portraits/men/64.jpg  \n",
       "5  https://randomuser.me/api/portraits/women/35.jpg  \n",
       "6   https://randomuser.me/api/portraits/women/6.jpg  \n",
       "7  https://randomuser.me/api/portraits/women/48.jpg  \n",
       "8  https://randomuser.me/api/portraits/women/77.jpg  \n",
       "9    https://randomuser.me/api/portraits/men/28.jpg  "
      ]
     },
     "execution_count": 15,
     "metadata": {},
     "output_type": "execute_result"
    }
   ],
   "source": [
    "get_users()"
   ]
  },
  {
   "cell_type": "code",
   "execution_count": 24,
   "metadata": {},
   "outputs": [
    {
     "data": {
      "text/plain": [
       "Name       object\n",
       "Gender     object\n",
       "City       object\n",
       "State      object\n",
       "Email      object\n",
       "DOB        object\n",
       "Picture    object\n",
       "dtype: object"
      ]
     },
     "execution_count": 24,
     "metadata": {},
     "output_type": "execute_result"
    }
   ],
   "source": [
    "df1 = pd.DataFrame(get_users())  \n",
    "df1.dtypes"
   ]
  },
  {
   "cell_type": "markdown",
   "metadata": {},
   "source": [
    "Now we have a *pandas* dataframe that can be used for any testing purposes that the tester might have.\n"
   ]
  },
  {
   "cell_type": "markdown",
   "metadata": {},
   "source": [
    "## Example 2: Fruityvice API\n",
    "\n",
    "Another, more common way to use APIs, is through `requests` library. The next lab, Requests and HTTP, will contain more information about requests.\n",
    "\n",
    "We will start by importing all required libraries.\n"
   ]
  },
  {
   "cell_type": "code",
   "execution_count": 25,
   "metadata": {},
   "outputs": [],
   "source": [
    "import requests\n",
    "import json"
   ]
  },
  {
   "cell_type": "markdown",
   "metadata": {},
   "source": [
    "We will obtain the [fruityvice](https://www.fruityvice.com) API data using `requests.get(\"url\")` function. The data is in a json format.\n"
   ]
  },
  {
   "cell_type": "code",
   "execution_count": 26,
   "metadata": {},
   "outputs": [],
   "source": [
    "data = requests.get(\"https://fruityvice.com/api/fruit/all\")"
   ]
  },
  {
   "cell_type": "markdown",
   "metadata": {},
   "source": [
    "We will retrieve results using `json.loads()` function.\n"
   ]
  },
  {
   "cell_type": "code",
   "execution_count": 27,
   "metadata": {},
   "outputs": [],
   "source": [
    "results = json.loads(data.text)"
   ]
  },
  {
   "cell_type": "markdown",
   "metadata": {},
   "source": [
    "We will convert our json data into *pandas* data frame. \n"
   ]
  },
  {
   "cell_type": "code",
   "execution_count": 29,
   "metadata": {},
   "outputs": [
    {
     "data": {
      "text/html": [
       "<div>\n",
       "<style scoped>\n",
       "    .dataframe tbody tr th:only-of-type {\n",
       "        vertical-align: middle;\n",
       "    }\n",
       "\n",
       "    .dataframe tbody tr th {\n",
       "        vertical-align: top;\n",
       "    }\n",
       "\n",
       "    .dataframe thead th {\n",
       "        text-align: right;\n",
       "    }\n",
       "</style>\n",
       "<table border=\"1\" class=\"dataframe\">\n",
       "  <thead>\n",
       "    <tr style=\"text-align: right;\">\n",
       "      <th></th>\n",
       "      <th>name</th>\n",
       "      <th>id</th>\n",
       "      <th>family</th>\n",
       "      <th>order</th>\n",
       "      <th>genus</th>\n",
       "      <th>nutritions</th>\n",
       "    </tr>\n",
       "  </thead>\n",
       "  <tbody>\n",
       "    <tr>\n",
       "      <th>0</th>\n",
       "      <td>Persimmon</td>\n",
       "      <td>52</td>\n",
       "      <td>Ebenaceae</td>\n",
       "      <td>Rosales</td>\n",
       "      <td>Diospyros</td>\n",
       "      <td>{'calories': 81, 'fat': 0.0, 'sugar': 18.0, 'c...</td>\n",
       "    </tr>\n",
       "    <tr>\n",
       "      <th>1</th>\n",
       "      <td>Strawberry</td>\n",
       "      <td>3</td>\n",
       "      <td>Rosaceae</td>\n",
       "      <td>Rosales</td>\n",
       "      <td>Fragaria</td>\n",
       "      <td>{'calories': 29, 'fat': 0.4, 'sugar': 5.4, 'ca...</td>\n",
       "    </tr>\n",
       "    <tr>\n",
       "      <th>2</th>\n",
       "      <td>Banana</td>\n",
       "      <td>1</td>\n",
       "      <td>Musaceae</td>\n",
       "      <td>Zingiberales</td>\n",
       "      <td>Musa</td>\n",
       "      <td>{'calories': 96, 'fat': 0.2, 'sugar': 17.2, 'c...</td>\n",
       "    </tr>\n",
       "    <tr>\n",
       "      <th>3</th>\n",
       "      <td>Tomato</td>\n",
       "      <td>5</td>\n",
       "      <td>Solanaceae</td>\n",
       "      <td>Solanales</td>\n",
       "      <td>Solanum</td>\n",
       "      <td>{'calories': 74, 'fat': 0.2, 'sugar': 2.6, 'ca...</td>\n",
       "    </tr>\n",
       "    <tr>\n",
       "      <th>4</th>\n",
       "      <td>Pear</td>\n",
       "      <td>4</td>\n",
       "      <td>Rosaceae</td>\n",
       "      <td>Rosales</td>\n",
       "      <td>Pyrus</td>\n",
       "      <td>{'calories': 57, 'fat': 0.1, 'sugar': 10.0, 'c...</td>\n",
       "    </tr>\n",
       "  </tbody>\n",
       "</table>\n",
       "</div>"
      ],
      "text/plain": [
       "         name  id      family         order      genus  \\\n",
       "0   Persimmon  52   Ebenaceae       Rosales  Diospyros   \n",
       "1  Strawberry   3    Rosaceae       Rosales   Fragaria   \n",
       "2      Banana   1    Musaceae  Zingiberales       Musa   \n",
       "3      Tomato   5  Solanaceae     Solanales    Solanum   \n",
       "4        Pear   4    Rosaceae       Rosales      Pyrus   \n",
       "\n",
       "                                          nutritions  \n",
       "0  {'calories': 81, 'fat': 0.0, 'sugar': 18.0, 'c...  \n",
       "1  {'calories': 29, 'fat': 0.4, 'sugar': 5.4, 'ca...  \n",
       "2  {'calories': 96, 'fat': 0.2, 'sugar': 17.2, 'c...  \n",
       "3  {'calories': 74, 'fat': 0.2, 'sugar': 2.6, 'ca...  \n",
       "4  {'calories': 57, 'fat': 0.1, 'sugar': 10.0, 'c...  "
      ]
     },
     "execution_count": 29,
     "metadata": {},
     "output_type": "execute_result"
    }
   ],
   "source": [
    "pd.DataFrame(results).head()"
   ]
  },
  {
   "cell_type": "markdown",
   "metadata": {},
   "source": [
    "The result is in a nested json format. The 'nutrition' column contains multiple subcolumns, so the data needs to be 'flattened' or normalized.\n"
   ]
  },
  {
   "cell_type": "code",
   "execution_count": 30,
   "metadata": {},
   "outputs": [],
   "source": [
    "df2 = pd.json_normalize(results)"
   ]
  },
  {
   "cell_type": "code",
   "execution_count": 32,
   "metadata": {},
   "outputs": [
    {
     "data": {
      "text/html": [
       "<div>\n",
       "<style scoped>\n",
       "    .dataframe tbody tr th:only-of-type {\n",
       "        vertical-align: middle;\n",
       "    }\n",
       "\n",
       "    .dataframe tbody tr th {\n",
       "        vertical-align: top;\n",
       "    }\n",
       "\n",
       "    .dataframe thead th {\n",
       "        text-align: right;\n",
       "    }\n",
       "</style>\n",
       "<table border=\"1\" class=\"dataframe\">\n",
       "  <thead>\n",
       "    <tr style=\"text-align: right;\">\n",
       "      <th></th>\n",
       "      <th>name</th>\n",
       "      <th>id</th>\n",
       "      <th>family</th>\n",
       "      <th>order</th>\n",
       "      <th>genus</th>\n",
       "      <th>nutritions.calories</th>\n",
       "      <th>nutritions.fat</th>\n",
       "      <th>nutritions.sugar</th>\n",
       "      <th>nutritions.carbohydrates</th>\n",
       "      <th>nutritions.protein</th>\n",
       "    </tr>\n",
       "  </thead>\n",
       "  <tbody>\n",
       "    <tr>\n",
       "      <th>0</th>\n",
       "      <td>Persimmon</td>\n",
       "      <td>52</td>\n",
       "      <td>Ebenaceae</td>\n",
       "      <td>Rosales</td>\n",
       "      <td>Diospyros</td>\n",
       "      <td>81</td>\n",
       "      <td>0.0</td>\n",
       "      <td>18.0</td>\n",
       "      <td>18.0</td>\n",
       "      <td>0.0</td>\n",
       "    </tr>\n",
       "    <tr>\n",
       "      <th>1</th>\n",
       "      <td>Strawberry</td>\n",
       "      <td>3</td>\n",
       "      <td>Rosaceae</td>\n",
       "      <td>Rosales</td>\n",
       "      <td>Fragaria</td>\n",
       "      <td>29</td>\n",
       "      <td>0.4</td>\n",
       "      <td>5.4</td>\n",
       "      <td>5.5</td>\n",
       "      <td>0.8</td>\n",
       "    </tr>\n",
       "    <tr>\n",
       "      <th>2</th>\n",
       "      <td>Banana</td>\n",
       "      <td>1</td>\n",
       "      <td>Musaceae</td>\n",
       "      <td>Zingiberales</td>\n",
       "      <td>Musa</td>\n",
       "      <td>96</td>\n",
       "      <td>0.2</td>\n",
       "      <td>17.2</td>\n",
       "      <td>22.0</td>\n",
       "      <td>1.0</td>\n",
       "    </tr>\n",
       "    <tr>\n",
       "      <th>3</th>\n",
       "      <td>Tomato</td>\n",
       "      <td>5</td>\n",
       "      <td>Solanaceae</td>\n",
       "      <td>Solanales</td>\n",
       "      <td>Solanum</td>\n",
       "      <td>74</td>\n",
       "      <td>0.2</td>\n",
       "      <td>2.6</td>\n",
       "      <td>3.9</td>\n",
       "      <td>0.9</td>\n",
       "    </tr>\n",
       "    <tr>\n",
       "      <th>4</th>\n",
       "      <td>Pear</td>\n",
       "      <td>4</td>\n",
       "      <td>Rosaceae</td>\n",
       "      <td>Rosales</td>\n",
       "      <td>Pyrus</td>\n",
       "      <td>57</td>\n",
       "      <td>0.1</td>\n",
       "      <td>10.0</td>\n",
       "      <td>15.0</td>\n",
       "      <td>0.4</td>\n",
       "    </tr>\n",
       "  </tbody>\n",
       "</table>\n",
       "</div>"
      ],
      "text/plain": [
       "         name  id      family         order      genus  nutritions.calories  \\\n",
       "0   Persimmon  52   Ebenaceae       Rosales  Diospyros                   81   \n",
       "1  Strawberry   3    Rosaceae       Rosales   Fragaria                   29   \n",
       "2      Banana   1    Musaceae  Zingiberales       Musa                   96   \n",
       "3      Tomato   5  Solanaceae     Solanales    Solanum                   74   \n",
       "4        Pear   4    Rosaceae       Rosales      Pyrus                   57   \n",
       "\n",
       "   nutritions.fat  nutritions.sugar  nutritions.carbohydrates  \\\n",
       "0             0.0              18.0                      18.0   \n",
       "1             0.4               5.4                       5.5   \n",
       "2             0.2              17.2                      22.0   \n",
       "3             0.2               2.6                       3.9   \n",
       "4             0.1              10.0                      15.0   \n",
       "\n",
       "   nutritions.protein  \n",
       "0                 0.0  \n",
       "1                 0.8  \n",
       "2                 1.0  \n",
       "3                 0.9  \n",
       "4                 0.4  "
      ]
     },
     "execution_count": 32,
     "metadata": {},
     "output_type": "execute_result"
    }
   ],
   "source": [
    "df2.head()"
   ]
  },
  {
   "cell_type": "markdown",
   "metadata": {},
   "source": [
    "Let's see if we can extract some information from this dataframe. Perhaps, we need to know the family and genus of a cherry.\n"
   ]
  },
  {
   "cell_type": "code",
   "execution_count": 33,
   "metadata": {},
   "outputs": [
    {
     "data": {
      "text/plain": [
       "('Rosaceae', 'Prunus')"
      ]
     },
     "execution_count": 33,
     "metadata": {},
     "output_type": "execute_result"
    }
   ],
   "source": [
    "cherry = df2.loc[df2[\"name\"] == 'Cherry']\n",
    "(cherry.iloc[0]['family']) , (cherry.iloc[0]['genus'])"
   ]
  },
  {
   "cell_type": "markdown",
   "metadata": {},
   "source": [
    "## Exercise 2\n",
    "In this Exercise, find out how many calories are contained in a banana.\n"
   ]
  },
  {
   "cell_type": "code",
   "execution_count": 38,
   "metadata": {},
   "outputs": [
    {
     "data": {
      "text/plain": [
       "96"
      ]
     },
     "execution_count": 38,
     "metadata": {},
     "output_type": "execute_result"
    }
   ],
   "source": [
    "# Write your code here\n",
    "# banana = df2.loc[df2[\"name\"]=='Banana']\n",
    "(df2.loc[df2[\"name\"]=='Banana'].iloc[0]['nutritions.calories'])"
   ]
  },
  {
   "cell_type": "markdown",
   "metadata": {},
   "source": [
    "<details><summary>Click here for the solution</summary>\n",
    "\n",
    "```python\n",
    "cal_banana = df2.loc[df2[\"name\"] == 'Banana']\n",
    "cal_banana.iloc[0]['nutritions.calories']\n",
    "```\n",
    "\n",
    "</details>\n"
   ]
  },
  {
   "cell_type": "markdown",
   "metadata": {},
   "source": [
    "## Exercise 3\n",
    "\n",
    "This [page](https://mixedanalytics.com/blog/list-actually-free-open-no-auth-needed-apis/) contains a list of free public APIs for you to practice. Let us deal with the following example.\n",
    "\n",
    "#### Official Joke API \n",
    "This API returns random jokes from a database. The following URL can be used to retrieve 10 random jokes.\n",
    "\n",
    "https://official-joke-api.appspot.com/jokes/ten\n",
    "\n",
    "1. Using `requests.get(\"url\")` function, load the data from the URL.\n"
   ]
  },
  {
   "cell_type": "code",
   "execution_count": 39,
   "metadata": {},
   "outputs": [
    {
     "data": {
      "text/plain": [
       "<Response [200]>"
      ]
     },
     "execution_count": 39,
     "metadata": {},
     "output_type": "execute_result"
    }
   ],
   "source": [
    "# Write your code here\n",
    "url = 'https://official-joke-api.appspot.com/jokes/ten'\n",
    "r = requests.get(url)\n",
    "r"
   ]
  },
  {
   "cell_type": "markdown",
   "metadata": {},
   "source": [
    "<details><summary>Click here for the solution</summary>\n",
    "\n",
    "```python\n",
    "data2 = requests.get(\"https://official-joke-api.appspot.com/jokes/ten\")\n",
    "```\n",
    "\n",
    "</details>\n"
   ]
  },
  {
   "cell_type": "markdown",
   "metadata": {},
   "source": [
    "2. Retrieve results using `json.loads()` function.\n"
   ]
  },
  {
   "cell_type": "code",
   "execution_count": 43,
   "metadata": {},
   "outputs": [
    {
     "data": {
      "text/plain": [
       "[{'type': 'general',\n",
       "  'setup': 'How many seconds are in a year?',\n",
       "  'punchline': '12. January 2nd, February 2nd, March 2nd, April 2nd.... etc',\n",
       "  'id': 143},\n",
       " {'type': 'general',\n",
       "  'setup': 'Want to hear a joke about a piece of paper?',\n",
       "  'punchline': \"Never mind...it's tearable\",\n",
       "  'id': 40},\n",
       " {'type': 'programming',\n",
       "  'setup': \"Why dot net developers don't wear glasses?\",\n",
       "  'punchline': 'Because they see sharp.',\n",
       "  'id': 383},\n",
       " {'type': 'programming',\n",
       "  'setup': 'Lady: How do I spread love in this cruel world?',\n",
       "  'punchline': 'Random Dude: [...💘]',\n",
       "  'id': 59},\n",
       " {'type': 'general',\n",
       "  'setup': \"You see, mountains aren't just funny.\",\n",
       "  'punchline': 'They are hill areas.',\n",
       "  'id': 408},\n",
       " {'type': 'general',\n",
       "  'setup': 'How does a scientist freshen their breath?',\n",
       "  'punchline': 'With experi-mints!',\n",
       "  'id': 136},\n",
       " {'type': 'general',\n",
       "  'setup': 'Why are ghosts bad liars?',\n",
       "  'punchline': 'Because you can see right through them!',\n",
       "  'id': 305},\n",
       " {'type': 'general',\n",
       "  'setup': 'Want to hear a chimney joke?',\n",
       "  'punchline': \"Got stacks of em! First one's on the house\",\n",
       "  'id': 152},\n",
       " {'type': 'general',\n",
       "  'setup': 'Why was Cinderalla thrown out of the football team?',\n",
       "  'punchline': 'Because she ran away from the ball.',\n",
       "  'id': 380},\n",
       " {'type': 'general',\n",
       "  'setup': 'Did you hear about the hungry clock?',\n",
       "  'punchline': 'It went back four seconds.',\n",
       "  'id': 64}]"
      ]
     },
     "execution_count": 43,
     "metadata": {},
     "output_type": "execute_result"
    }
   ],
   "source": [
    "# Write your code here\n",
    "results = json.loads(r.text)\n",
    "results"
   ]
  },
  {
   "cell_type": "markdown",
   "metadata": {},
   "source": [
    "<details><summary>Click here for the solution</summary>\n",
    "\n",
    "```python\n",
    "results2 = json.loads(data2.text)\n",
    "```\n",
    "\n",
    "</details>\n"
   ]
  },
  {
   "cell_type": "markdown",
   "metadata": {},
   "source": [
    "3. Convert json data into *pandas* data frame. Drop the type and id columns.\n"
   ]
  },
  {
   "cell_type": "code",
   "execution_count": 47,
   "metadata": {},
   "outputs": [
    {
     "data": {
      "text/html": [
       "<div>\n",
       "<style scoped>\n",
       "    .dataframe tbody tr th:only-of-type {\n",
       "        vertical-align: middle;\n",
       "    }\n",
       "\n",
       "    .dataframe tbody tr th {\n",
       "        vertical-align: top;\n",
       "    }\n",
       "\n",
       "    .dataframe thead th {\n",
       "        text-align: right;\n",
       "    }\n",
       "</style>\n",
       "<table border=\"1\" class=\"dataframe\">\n",
       "  <thead>\n",
       "    <tr style=\"text-align: right;\">\n",
       "      <th></th>\n",
       "      <th>type</th>\n",
       "      <th>setup</th>\n",
       "      <th>punchline</th>\n",
       "      <th>id</th>\n",
       "    </tr>\n",
       "  </thead>\n",
       "  <tbody>\n",
       "    <tr>\n",
       "      <th>0</th>\n",
       "      <td>general</td>\n",
       "      <td>How many seconds are in a year?</td>\n",
       "      <td>12. January 2nd, February 2nd, March 2nd, Apri...</td>\n",
       "      <td>143</td>\n",
       "    </tr>\n",
       "    <tr>\n",
       "      <th>1</th>\n",
       "      <td>general</td>\n",
       "      <td>Want to hear a joke about a piece of paper?</td>\n",
       "      <td>Never mind...it's tearable</td>\n",
       "      <td>40</td>\n",
       "    </tr>\n",
       "    <tr>\n",
       "      <th>2</th>\n",
       "      <td>programming</td>\n",
       "      <td>Why dot net developers don't wear glasses?</td>\n",
       "      <td>Because they see sharp.</td>\n",
       "      <td>383</td>\n",
       "    </tr>\n",
       "    <tr>\n",
       "      <th>3</th>\n",
       "      <td>programming</td>\n",
       "      <td>Lady: How do I spread love in this cruel world?</td>\n",
       "      <td>Random Dude: [...💘]</td>\n",
       "      <td>59</td>\n",
       "    </tr>\n",
       "    <tr>\n",
       "      <th>4</th>\n",
       "      <td>general</td>\n",
       "      <td>You see, mountains aren't just funny.</td>\n",
       "      <td>They are hill areas.</td>\n",
       "      <td>408</td>\n",
       "    </tr>\n",
       "    <tr>\n",
       "      <th>5</th>\n",
       "      <td>general</td>\n",
       "      <td>How does a scientist freshen their breath?</td>\n",
       "      <td>With experi-mints!</td>\n",
       "      <td>136</td>\n",
       "    </tr>\n",
       "    <tr>\n",
       "      <th>6</th>\n",
       "      <td>general</td>\n",
       "      <td>Why are ghosts bad liars?</td>\n",
       "      <td>Because you can see right through them!</td>\n",
       "      <td>305</td>\n",
       "    </tr>\n",
       "    <tr>\n",
       "      <th>7</th>\n",
       "      <td>general</td>\n",
       "      <td>Want to hear a chimney joke?</td>\n",
       "      <td>Got stacks of em! First one's on the house</td>\n",
       "      <td>152</td>\n",
       "    </tr>\n",
       "    <tr>\n",
       "      <th>8</th>\n",
       "      <td>general</td>\n",
       "      <td>Why was Cinderalla thrown out of the football ...</td>\n",
       "      <td>Because she ran away from the ball.</td>\n",
       "      <td>380</td>\n",
       "    </tr>\n",
       "    <tr>\n",
       "      <th>9</th>\n",
       "      <td>general</td>\n",
       "      <td>Did you hear about the hungry clock?</td>\n",
       "      <td>It went back four seconds.</td>\n",
       "      <td>64</td>\n",
       "    </tr>\n",
       "  </tbody>\n",
       "</table>\n",
       "</div>"
      ],
      "text/plain": [
       "          type                                              setup  \\\n",
       "0      general                    How many seconds are in a year?   \n",
       "1      general        Want to hear a joke about a piece of paper?   \n",
       "2  programming         Why dot net developers don't wear glasses?   \n",
       "3  programming    Lady: How do I spread love in this cruel world?   \n",
       "4      general              You see, mountains aren't just funny.   \n",
       "5      general         How does a scientist freshen their breath?   \n",
       "6      general                          Why are ghosts bad liars?   \n",
       "7      general                       Want to hear a chimney joke?   \n",
       "8      general  Why was Cinderalla thrown out of the football ...   \n",
       "9      general               Did you hear about the hungry clock?   \n",
       "\n",
       "                                           punchline   id  \n",
       "0  12. January 2nd, February 2nd, March 2nd, Apri...  143  \n",
       "1                         Never mind...it's tearable   40  \n",
       "2                            Because they see sharp.  383  \n",
       "3                                Random Dude: [...💘]   59  \n",
       "4                               They are hill areas.  408  \n",
       "5                                 With experi-mints!  136  \n",
       "6            Because you can see right through them!  305  \n",
       "7         Got stacks of em! First one's on the house  152  \n",
       "8                Because she ran away from the ball.  380  \n",
       "9                         It went back four seconds.   64  "
      ]
     },
     "execution_count": 47,
     "metadata": {},
     "output_type": "execute_result"
    }
   ],
   "source": [
    "# Write your code here\n",
    "df3 = pd.DataFrame(results)\n",
    "df3"
   ]
  },
  {
   "cell_type": "markdown",
   "metadata": {},
   "source": [
    "<details><summary>Click here for the solution</summary>\n",
    "\n",
    "```python\n",
    "df3 = pd.DataFrame(results2)\n",
    "df3.drop(columns=[\"type\",\"id\"],inplace=True)\n",
    "df3\n",
    "```\n",
    "\n",
    "</details>\n"
   ]
  },
  {
   "cell_type": "markdown",
   "metadata": {},
   "source": [
    "# Congratulations! - You have completed the lab\n"
   ]
  },
  {
   "cell_type": "markdown",
   "metadata": {},
   "source": [
    "## Author\n",
    "<a href=\"https://www.linkedin.com/in/svitlana-kramar\" target=\"_blank\">Svitlana Kramar</a>\n",
    "\n",
    "Svitlana is a master’s degree Data Science and Analytics student at University of Calgary, who enjoys travelling, learning new languages and cultures and loves spreading her passion for Data Science.\n",
    "\n",
    "## Additional Contributor\n",
    "<a href=\"https://www.linkedin.com/in/abhishek-gagneja-23051987/\" target=\"_blank\">Abhishek Gagneja</a>\n"
   ]
  },
  {
   "cell_type": "markdown",
   "metadata": {},
   "source": [
    "Copyright © 2023 IBM Corporation. All rights reserved.\n"
   ]
  }
 ],
 "metadata": {
  "kernelspec": {
   "display_name": "Python 3 (ipykernel)",
   "language": "python",
   "name": "python3"
  },
  "language_info": {
   "codemirror_mode": {
    "name": "ipython",
    "version": 3
   },
   "file_extension": ".py",
   "mimetype": "text/x-python",
   "name": "python",
   "nbconvert_exporter": "python",
   "pygments_lexer": "ipython3",
   "version": "3.9.12"
  }
 },
 "nbformat": 4,
 "nbformat_minor": 4
}
