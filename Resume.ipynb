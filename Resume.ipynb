{
 "cells": [
  {
   "cell_type": "code",
   "execution_count": 3,
   "id": "a4ce4bf3-df81-4a5a-bcbb-2d0a72a72408",
   "metadata": {},
   "outputs": [
    {
     "name": "stdout",
     "output_type": "stream",
     "text": [
      "Collecting fpdf\n",
      "  Downloading fpdf-1.7.2.tar.gz (39 kB)\n",
      "Building wheels for collected packages: fpdf\n",
      "  Building wheel for fpdf (setup.py): started\n",
      "  Building wheel for fpdf (setup.py): finished with status 'done'\n",
      "  Created wheel for fpdf: filename=fpdf-1.7.2-py2.py3-none-any.whl size=40723 sha256=c23a0939f3d0ae934878fc503137ddefda53f913bb698181931d5c73467b4ea2\n",
      "  Stored in directory: c:\\users\\bulku\\appdata\\local\\pip\\cache\\wheels\\44\\35\\8b\\86ce00cec7e4d13c5f189680ae0fa82f919bedc066c2cddae9\n",
      "Successfully built fpdf\n",
      "Installing collected packages: fpdf\n",
      "Successfully installed fpdf-1.7.2\n"
     ]
    }
   ],
   "source": [
    "!pip install fpdf\n",
    "from fpdf import FPDF"
   ]
  },
  {
   "cell_type": "code",
   "execution_count": 7,
   "id": "37245b8e-f2c6-4234-8f46-3dd74b6f786b",
   "metadata": {},
   "outputs": [],
   "source": [
    "\n",
    "class PDF(FPDF):\n",
    "    def header(self):\n",
    "        self.set_font('Arial', 'B', 12)\n",
    "        self.cell(0, 10, 'SHUBHAM BULKUNDE', 0, 1, 'C')\n",
    "        self.set_font('Arial', '', 10)\n",
    "        self.cell(0, 10, '+91 9623661023 | bulkundeshubham45@gmail.com', 0, 1, 'C')\n",
    "        lnkd_url = 'linkedin.com/in/shubham-bulkunde'\n",
    "        git_url = 'github.com/shubhambulkunde'\n",
    "        self.cell(0, 10, f'LinkedIn:{lnkd_url} | GitHub:{git_url}', 0, 1, 'C')\n",
    "        self.ln(10)\n",
    "\n",
    "    def chapter_title(self, title):\n",
    "        self.set_font('Arial', 'B', 12)\n",
    "        self.cell(0, 10, title, 0, 1, 'L')\n",
    "        self.ln(2)\n",
    "\n",
    "    def chapter_body(self, body):\n",
    "        self.set_font('Arial', '', 10)\n",
    "        self.multi_cell(0, 10, body)\n",
    "        self.ln()"
   ]
  },
  {
   "cell_type": "code",
   "execution_count": 8,
   "id": "0e716866-19c0-4daa-b44d-bb05a7088a65",
   "metadata": {},
   "outputs": [],
   "source": [
    "pdf = PDF()"
   ]
  },
  {
   "cell_type": "code",
   "execution_count": 9,
   "id": "ad642cf8-7b5b-4719-99b6-2644e8fabf88",
   "metadata": {},
   "outputs": [],
   "source": [
    "pdf.add_page()"
   ]
  },
  {
   "cell_type": "code",
   "execution_count": 10,
   "id": "4f54825d-ad0c-4e79-bd64-604aa3513eb5",
   "metadata": {},
   "outputs": [],
   "source": [
    "pdf.chapter_title(\"Education\")\n",
    "pdf.chapter_body(\"\"\"B.E. in Computer Engineering (Expected July 2024)\n",
    "AVCOE (SPPU)\n",
    "- CGPA: 87.20%\n",
    "\n",
    "H.S.C (12th Grade) (2020)\n",
    "Shramik Junior College\n",
    "- Percentage: 80.92%\n",
    "\n",
    "S.S.C (10th Grade) (2018)\n",
    "M.R.D. Malpani Vidyalaya\n",
    "- Percentage: 93%\n",
    "\"\"\")\n",
    "\n",
    "pdf.chapter_title(\"Technical Skills\")\n",
    "pdf.chapter_body(\"\"\"Programming Languages: C, C++, python, Java (Core + Advanced)\n",
    "Web Development: HTML, CSS, JavaScript, React\n",
    "Database Management: SQL, PostgreSQL, Firebase\n",
    "Frameworks & Tools: Hibernate, Git/GitHub\n",
    "Operating Systems: Linux, Windows\n",
    "Other: IoT, DBMS, OS, CN\n",
    "\n",
    "Soft Skills:\n",
    "Leadership, Communication, Problem Solving, Public Speaking, Teamwork\n",
    "\"\"\")\n",
    "\n",
    "pdf.chapter_title(\"Internship Experience\")\n",
    "pdf.chapter_body(\"\"\"Cognifront, Nashik\n",
    "- Gained hands-on experience in programming controllers and modules.\n",
    "- Deepened understanding of micro-controllers, contributing to both personal and academic projects.\n",
    "- Worked on developing and testing various embedded systems applications.\n",
    "\"\"\")\n",
    "\n",
    "pdf.chapter_title(\"Virtual\")\n",
    "pdf.chapter_body(\"\"\"- AWS Cloud Foundation and Architecture\n",
    "- Microchip - Embedded System Developer\n",
    "- Qualified GATE 2024\n",
    "\"\"\")\n",
    "\n",
    "pdf.chapter_title(\"Projects\")\n",
    "pdf.chapter_body(\"\"\"InfoSphere Campus Hub\n",
    "Tech-stack: IoT, Firebase, App-script, Front-end development\n",
    "- Developed a real-time lecture management and display system.\n",
    "- Won 1st prize in intra and inter-college competitions.\n",
    "- Implemented outdoor display for class schedules and notices.\n",
    "\n",
    "Advancing Personal Safety Technology\n",
    "Tech-stack: IoT, Firebase, Front-end development, Machine Learning\n",
    "- Created a web-app linked with wearable hardware to monitor heart rate and send location data.\n",
    "- Integrated SOS features and fall detection using camera-based object detection.\n",
    "- Enhanced personal safety through innovative technology solutions.\n",
    "\"\"\")\n",
    "\n",
    "pdf.chapter_title(\"Awards\")\n",
    "pdf.chapter_body(\"\"\"- NMMS Scholarship\n",
    "- Cummins India Foundation Scholarship\n",
    "\"\"\")"
   ]
  },
  {
   "cell_type": "code",
   "execution_count": 11,
   "id": "89191e25-7b90-4165-b909-82a92af12e9c",
   "metadata": {},
   "outputs": [
    {
     "data": {
      "text/plain": [
       "''"
      ]
     },
     "execution_count": 11,
     "metadata": {},
     "output_type": "execute_result"
    }
   ],
   "source": [
    "# Save the PDF to a file\n",
    "pdf.output(\"Shubham_Bulkunde.pdf\")"
   ]
  },
  {
   "cell_type": "code",
   "execution_count": null,
   "id": "43a77124-c286-4a09-876b-e317c5ec3ec4",
   "metadata": {},
   "outputs": [],
   "source": []
  }
 ],
 "metadata": {
  "kernelspec": {
   "display_name": "Python 3 (ipykernel)",
   "language": "python",
   "name": "python3"
  },
  "language_info": {
   "codemirror_mode": {
    "name": "ipython",
    "version": 3
   },
   "file_extension": ".py",
   "mimetype": "text/x-python",
   "name": "python",
   "nbconvert_exporter": "python",
   "pygments_lexer": "ipython3",
   "version": "3.9.12"
  }
 },
 "nbformat": 4,
 "nbformat_minor": 5
}
